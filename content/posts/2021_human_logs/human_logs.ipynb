{
 "cells": [
  {
   "cell_type": "code",
   "execution_count": 18,
   "id": "physical-mother",
   "metadata": {},
   "outputs": [
    {
     "name": "stdout",
     "output_type": "stream",
     "text": [
      "[ 1  2  3  4  5  6  7  8  9 10]\n"
     ]
    },
    {
     "data": {
      "image/png": "[encoded data removed]",
      "text/plain": [
       "<Figure size 432x288 with 1 Axes>"
      ]
     },
     "metadata": {
      "needs_background": "light"
     },
     "output_type": "display_data"
    }
   ],
   "source": [
    "import numpy as np\n",
    "import matplotlib.pyplot as plt\n",
    "import imageio\n",
    "import os\n",
    "\n",
    "FONTSIZE = 14\n",
    "GIF_FRAME_RATE = 1\n",
    "TEMPGIFNAME = 'delme'\n",
    "MIN_X = 1\n",
    "MAX_X = 10\n",
    "XVECT = np.arange(MIN_X, MAX_X+1)\n",
    "print(XVECT)\n",
    "\n",
    "file_name = 'test.gif'\n",
    "\n",
    "\n",
    "fig, axes = plt.subplots()\n",
    "plt.rc('font', size=FONTSIZE)\n",
    "tempgiffiles = []\n",
    "for i_frame in range(10):\n",
    "    # plot\n",
    "    axes.plot([i_frame, i_frame+1], [i_frame, i_frame+1], 'b-')\n",
    "    tempgiffiles.append(TEMPGIFNAME + '%i.png' % i_frame)\n",
    "    plt.savefig(tempgiffiles[-1])\n",
    "    \n",
    "    \n",
    "\n",
    "with imageio.get_writer(file_name, mode='I', format='GIF-FI', duration=1, quantizer='nq', palettesize=256) as writer:\n",
    "    for filename in tempgiffiles:\n",
    "        image = imageio.imread(filename)\n",
    "        writer.append_data(image)\n",
    "        os.remove(filename)\n",
    "\n",
    "    "
   ]
  }
 ],
 "metadata": {
  "kernelspec": {
   "display_name": "Python 3",
   "language": "python",
   "name": "python3"
  },
  "language_info": {
   "codemirror_mode": {
    "name": "ipython",
    "version": 3
   },
   "file_extension": ".py",
   "mimetype": "text/x-python",
   "name": "python",
   "nbconvert_exporter": "python",
   "pygments_lexer": "ipython3",
   "version": "3.9.2"
  }
 },
 "nbformat": 4,
 "nbformat_minor": 5
}
